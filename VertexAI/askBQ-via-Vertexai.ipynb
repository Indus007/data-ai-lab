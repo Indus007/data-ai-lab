{
  "cells": [
    {
      "cell_type": "markdown",
      "metadata": {
        "id": "nWKmZBiRSbO7"
      },
      "source": [
        "# **Q&A with BigQuery using langchain & LLM**\n"
      ]
    },
    {
      "cell_type": "markdown",
      "metadata": {
        "id": "j9BPkBzhTDzn"
      },
      "source": [
        "Demo: This notebook guides you on use of LLM to answer questions over a BigQuery table.\n",
        "\n",
        "Dataset: Fitbit public dataset from Kaggle (https://www.kaggle.com/datasets/arashnic/fitbit)\n",
        "\n",
        "\n",
        "Example input: What is the average number of steps taken by the user?"
      ]
    },
    {
      "cell_type": "markdown",
      "metadata": {
        "id": "6oFGVUMTJnih"
      },
      "source": [
        "| Date     | Change Log  |\n",
        "|----------|-------------|\n",
        "|5/17/2023 |Added Gradio UI at the end |\n",
        "|5/23/2023 |Changed setup to latest SDK|\n",
        "|5/30/2023 |Modified Prompt template for metadata queries|\n",
        "|5/31/2023 |Successfully tested on multiple SQL joins|\n",
        "|5/31/2023 |Modified prompt template for casting data types for calculations|\n",
        "|6/07/2023 |Updated SDKs to latest Langchain & SQLAlchemy|"
      ]
    },
    {
      "cell_type": "markdown",
      "metadata": {
        "id": "UEv34vVKxR9k"
      },
      "source": [
        "### Install latest Vertex LLM SDK"
      ]
    },
    {
      "cell_type": "code",
      "execution_count": null,
      "metadata": {
        "id": "DtJU7su79db8"
      },
      "outputs": [],
      "source": [
        "# # Authenticate with Google account\n",
        "from google.colab import auth as google_auth\n",
        "google_auth.authenticate_user()"
      ]
    },
    {
      "cell_type": "code",
      "execution_count": null,
      "metadata": {
        "colab": {
          "base_uri": "https://localhost:8080/",
          "height": 853
        },
        "id": "lzgVKo1I9h30",
        "outputId": "777cce94-1f6e-487f-c0c0-c414602e276f"
      },
      "outputs": [
        {
          "name": "stdout",
          "output_type": "stream",
          "text": [
            "Looking in indexes: https://pypi.org/simple, https://us-python.pkg.dev/colab-wheels/public/simple/\n",
            "Collecting google-cloud-aiplatform\n",
            "  Downloading google_cloud_aiplatform-1.26.0-py2.py3-none-any.whl (2.6 MB)\n",
            "\u001b[2K     \u001b[90m━━━━━━━━━━━━━━━━━━━━━━━━━━━━━━━━━━━━━━━━\u001b[0m \u001b[32m2.6/2.6 MB\u001b[0m \u001b[31m28.4 MB/s\u001b[0m eta \u001b[36m0:00:00\u001b[0m\n",
            "\u001b[?25hRequirement already satisfied: google-api-core[grpc]!=2.0.*,!=2.1.*,!=2.2.*,!=2.3.*,!=2.4.*,!=2.5.*,!=2.6.*,!=2.7.*,<3.0.0dev,>=1.32.0 in /usr/local/lib/python3.10/dist-packages (from google-cloud-aiplatform) (2.11.0)\n",
            "Requirement already satisfied: proto-plus<2.0.0dev,>=1.22.0 in /usr/local/lib/python3.10/dist-packages (from google-cloud-aiplatform) (1.22.2)\n",
            "Requirement already satisfied: protobuf!=3.20.0,!=3.20.1,!=4.21.0,!=4.21.1,!=4.21.2,!=4.21.3,!=4.21.4,!=4.21.5,<5.0.0dev,>=3.19.5 in /usr/local/lib/python3.10/dist-packages (from google-cloud-aiplatform) (3.20.3)\n",
            "Requirement already satisfied: packaging>=14.3 in /usr/local/lib/python3.10/dist-packages (from google-cloud-aiplatform) (23.1)\n",
            "Requirement already satisfied: google-cloud-storage<3.0.0dev,>=1.32.0 in /usr/local/lib/python3.10/dist-packages (from google-cloud-aiplatform) (2.8.0)\n",
            "Requirement already satisfied: google-cloud-bigquery<4.0.0dev,>=1.15.0 in /usr/local/lib/python3.10/dist-packages (from google-cloud-aiplatform) (3.9.0)\n",
            "Collecting google-cloud-resource-manager<3.0.0dev,>=1.3.3 (from google-cloud-aiplatform)\n",
            "  Downloading google_cloud_resource_manager-1.10.1-py2.py3-none-any.whl (321 kB)\n",
            "\u001b[2K     \u001b[90m━━━━━━━━━━━━━━━━━━━━━━━━━━━━━━━━━━━━━━\u001b[0m \u001b[32m321.3/321.3 kB\u001b[0m \u001b[31m32.7 MB/s\u001b[0m eta \u001b[36m0:00:00\u001b[0m\n",
            "\u001b[?25hCollecting shapely<2.0.0 (from google-cloud-aiplatform)\n",
            "  Downloading Shapely-1.8.5.post1-cp310-cp310-manylinux_2_12_x86_64.manylinux2010_x86_64.whl (2.0 MB)\n",
            "\u001b[2K     \u001b[90m━━━━━━━━━━━━━━━━━━━━━━━━━━━━━━━━━━━━━━━━\u001b[0m \u001b[32m2.0/2.0 MB\u001b[0m \u001b[31m63.9 MB/s\u001b[0m eta \u001b[36m0:00:00\u001b[0m\n",
            "\u001b[?25hRequirement already satisfied: googleapis-common-protos<2.0dev,>=1.56.2 in /usr/local/lib/python3.10/dist-packages (from google-api-core[grpc]!=2.0.*,!=2.1.*,!=2.2.*,!=2.3.*,!=2.4.*,!=2.5.*,!=2.6.*,!=2.7.*,<3.0.0dev,>=1.32.0->google-cloud-aiplatform) (1.59.0)\n",
            "Requirement already satisfied: google-auth<3.0dev,>=2.14.1 in /usr/local/lib/python3.10/dist-packages (from google-api-core[grpc]!=2.0.*,!=2.1.*,!=2.2.*,!=2.3.*,!=2.4.*,!=2.5.*,!=2.6.*,!=2.7.*,<3.0.0dev,>=1.32.0->google-cloud-aiplatform) (2.17.3)\n",
            "Requirement already satisfied: requests<3.0.0dev,>=2.18.0 in /usr/local/lib/python3.10/dist-packages (from google-api-core[grpc]!=2.0.*,!=2.1.*,!=2.2.*,!=2.3.*,!=2.4.*,!=2.5.*,!=2.6.*,!=2.7.*,<3.0.0dev,>=1.32.0->google-cloud-aiplatform) (2.27.1)\n",
            "Requirement already satisfied: grpcio<2.0dev,>=1.33.2 in /usr/local/lib/python3.10/dist-packages (from google-api-core[grpc]!=2.0.*,!=2.1.*,!=2.2.*,!=2.3.*,!=2.4.*,!=2.5.*,!=2.6.*,!=2.7.*,<3.0.0dev,>=1.32.0->google-cloud-aiplatform) (1.54.0)\n",
            "Requirement already satisfied: grpcio-status<2.0dev,>=1.33.2 in /usr/local/lib/python3.10/dist-packages (from google-api-core[grpc]!=2.0.*,!=2.1.*,!=2.2.*,!=2.3.*,!=2.4.*,!=2.5.*,!=2.6.*,!=2.7.*,<3.0.0dev,>=1.32.0->google-cloud-aiplatform) (1.48.2)\n",
            "Requirement already satisfied: google-cloud-core<3.0.0dev,>=1.6.0 in /usr/local/lib/python3.10/dist-packages (from google-cloud-bigquery<4.0.0dev,>=1.15.0->google-cloud-aiplatform) (2.3.2)\n",
            "Requirement already satisfied: google-resumable-media<3.0dev,>=0.6.0 in /usr/local/lib/python3.10/dist-packages (from google-cloud-bigquery<4.0.0dev,>=1.15.0->google-cloud-aiplatform) (2.5.0)\n",
            "Requirement already satisfied: python-dateutil<3.0dev,>=2.7.2 in /usr/local/lib/python3.10/dist-packages (from google-cloud-bigquery<4.0.0dev,>=1.15.0->google-cloud-aiplatform) (2.8.2)\n",
            "Collecting grpc-google-iam-v1<1.0.0dev,>=0.12.4 (from google-cloud-resource-manager<3.0.0dev,>=1.3.3->google-cloud-aiplatform)\n",
            "  Downloading grpc_google_iam_v1-0.12.6-py2.py3-none-any.whl (26 kB)\n",
            "Requirement already satisfied: cachetools<6.0,>=2.0.0 in /usr/local/lib/python3.10/dist-packages (from google-auth<3.0dev,>=2.14.1->google-api-core[grpc]!=2.0.*,!=2.1.*,!=2.2.*,!=2.3.*,!=2.4.*,!=2.5.*,!=2.6.*,!=2.7.*,<3.0.0dev,>=1.32.0->google-cloud-aiplatform) (5.3.0)\n",
            "Requirement already satisfied: pyasn1-modules>=0.2.1 in /usr/local/lib/python3.10/dist-packages (from google-auth<3.0dev,>=2.14.1->google-api-core[grpc]!=2.0.*,!=2.1.*,!=2.2.*,!=2.3.*,!=2.4.*,!=2.5.*,!=2.6.*,!=2.7.*,<3.0.0dev,>=1.32.0->google-cloud-aiplatform) (0.3.0)\n",
            "Requirement already satisfied: six>=1.9.0 in /usr/local/lib/python3.10/dist-packages (from google-auth<3.0dev,>=2.14.1->google-api-core[grpc]!=2.0.*,!=2.1.*,!=2.2.*,!=2.3.*,!=2.4.*,!=2.5.*,!=2.6.*,!=2.7.*,<3.0.0dev,>=1.32.0->google-cloud-aiplatform) (1.16.0)\n",
            "Requirement already satisfied: rsa<5,>=3.1.4 in /usr/local/lib/python3.10/dist-packages (from google-auth<3.0dev,>=2.14.1->google-api-core[grpc]!=2.0.*,!=2.1.*,!=2.2.*,!=2.3.*,!=2.4.*,!=2.5.*,!=2.6.*,!=2.7.*,<3.0.0dev,>=1.32.0->google-cloud-aiplatform) (4.9)\n",
            "Requirement already satisfied: google-crc32c<2.0dev,>=1.0 in /usr/local/lib/python3.10/dist-packages (from google-resumable-media<3.0dev,>=0.6.0->google-cloud-bigquery<4.0.0dev,>=1.15.0->google-cloud-aiplatform) (1.5.0)\n",
            "Requirement already satisfied: urllib3<1.27,>=1.21.1 in /usr/local/lib/python3.10/dist-packages (from requests<3.0.0dev,>=2.18.0->google-api-core[grpc]!=2.0.*,!=2.1.*,!=2.2.*,!=2.3.*,!=2.4.*,!=2.5.*,!=2.6.*,!=2.7.*,<3.0.0dev,>=1.32.0->google-cloud-aiplatform) (1.26.15)\n",
            "Requirement already satisfied: certifi>=2017.4.17 in /usr/local/lib/python3.10/dist-packages (from requests<3.0.0dev,>=2.18.0->google-api-core[grpc]!=2.0.*,!=2.1.*,!=2.2.*,!=2.3.*,!=2.4.*,!=2.5.*,!=2.6.*,!=2.7.*,<3.0.0dev,>=1.32.0->google-cloud-aiplatform) (2022.12.7)\n",
            "Requirement already satisfied: charset-normalizer~=2.0.0 in /usr/local/lib/python3.10/dist-packages (from requests<3.0.0dev,>=2.18.0->google-api-core[grpc]!=2.0.*,!=2.1.*,!=2.2.*,!=2.3.*,!=2.4.*,!=2.5.*,!=2.6.*,!=2.7.*,<3.0.0dev,>=1.32.0->google-cloud-aiplatform) (2.0.12)\n",
            "Requirement already satisfied: idna<4,>=2.5 in /usr/local/lib/python3.10/dist-packages (from requests<3.0.0dev,>=2.18.0->google-api-core[grpc]!=2.0.*,!=2.1.*,!=2.2.*,!=2.3.*,!=2.4.*,!=2.5.*,!=2.6.*,!=2.7.*,<3.0.0dev,>=1.32.0->google-cloud-aiplatform) (3.4)\n",
            "Requirement already satisfied: pyasn1<0.6.0,>=0.4.6 in /usr/local/lib/python3.10/dist-packages (from pyasn1-modules>=0.2.1->google-auth<3.0dev,>=2.14.1->google-api-core[grpc]!=2.0.*,!=2.1.*,!=2.2.*,!=2.3.*,!=2.4.*,!=2.5.*,!=2.6.*,!=2.7.*,<3.0.0dev,>=1.32.0->google-cloud-aiplatform) (0.5.0)\n",
            "Installing collected packages: shapely, grpc-google-iam-v1, google-cloud-resource-manager, google-cloud-aiplatform\n",
            "  Attempting uninstall: shapely\n",
            "    Found existing installation: shapely 2.0.1\n",
            "    Uninstalling shapely-2.0.1:\n",
            "      Successfully uninstalled shapely-2.0.1\n",
            "Successfully installed google-cloud-aiplatform-1.26.0 google-cloud-resource-manager-1.10.1 grpc-google-iam-v1-0.12.6 shapely-1.8.5.post1\n"
          ]
        },
        {
          "data": {
            "application/vnd.colab-display-data+json": {
              "pip_warning": {
                "packages": [
                  "google"
                ]
              }
            }
          },
          "metadata": {},
          "output_type": "display_data"
        }
      ],
      "source": [
        "# #Check for latest available SDK\n",
        "# # !gsutil cp gs://vertex_sdk_llm_private_releases/SDK/google_cloud_aiplatform-1.23.0.llm.alpha.23.03.28-py2.py3-none-any.whl .\n",
        "# # !gsutil cp gs://vertex_sdk_llm_private_releases/SDK/google_cloud_aiplatform-1.25.dev20230502+language.models-py2.py3-none-any.whl .\n",
        "\n",
        "# #!pip3 uninstall -y google-cloud-aiplatform\n",
        "# !pip install google-cloud-aiplatform --upgrade"
      ]
    },
    {
      "cell_type": "code",
      "execution_count": null,
      "metadata": {
        "id": "DnuxDVk89nc1"
      },
      "outputs": [],
      "source": [
        "# !pip install google_cloud_aiplatform-1.25.dev20230502+language.models-py2.py3-none-any.whl \"shapely<2.0.0\""
      ]
    },
    {
      "cell_type": "markdown",
      "metadata": {
        "id": "aPh6goEQyKsD"
      },
      "source": [
        "### Python libraries setup"
      ]
    },
    {
      "cell_type": "code",
      "execution_count": null,
      "metadata": {
        "colab": {
          "base_uri": "https://localhost:8080/"
        },
        "id": "KKgtvZFD9vIQ",
        "outputId": "29548df9-1b3b-4baf-8f07-a78064898e8e"
      },
      "outputs": [],
      "source": [
        "# # Install Python Libraries\n",
        "# !pip install chromadb --quiet\n",
        "# !pip install langchain==0.0.191 --quiet\n",
        "# !pip install google-cloud-core --quiet\n",
        "# !pip install gradio --quiet\n",
        "\n",
        "# # Below libraries are required to build a SQL engine for BigQuery\n",
        "# !pip install SQLAlchemy --quiet\n",
        "# !pip install sqlalchemy-bigquery --quiet"
      ]
    },
    {
      "cell_type": "code",
      "execution_count": null,
      "metadata": {
        "id": "_p0X85UA3aSa"
      },
      "outputs": [],
      "source": [
        "exit()"
      ]
    },
    {
      "cell_type": "markdown",
      "metadata": {
        "id": "HBQjT-kZOLPn"
      },
      "source": [
        "## **Since the kernel restarted at this point, run the below code individually**"
      ]
    },
    {
      "cell_type": "markdown",
      "metadata": {
        "id": "aDJshtqgxlsI"
      },
      "source": [
        "### LLM Model Initialization & App parameters initialization"
      ]
    },
    {
      "cell_type": "code",
      "execution_count": 2,
      "metadata": {
        "id": "o6eipz3LxgtE"
      },
      "outputs": [],
      "source": [
        "# @title Specify Project details and location of the BQ table\n",
        "\n",
        "project_id = \"cloud-llm-preview1\"  # @param {type:\"string\"}\n",
        "location = \"us-central1\"  # @param {type:\"string\"}\n",
        "dataset_id = 'blackbelt_capstone_healthcare' # @param {type:\"string\"}\n",
        "table_name1 = 'user_activity' # @param {type:\"string\"}\n",
        "table_name2 = 'user_location' # @param {type:\"string\"}\n",
        "table_name3 = 'user_weight_final' # @param {type:\"string\"}\n",
        "\n",
        "table_names = (table_name1,table_name2,table_name3)\n"
      ]
    },
    {
      "cell_type": "code",
      "execution_count": 5,
      "metadata": {},
      "outputs": [],
      "source": [
        "import vertexai\n",
        "vertexai.init(project=project_id, location=location)\n"
      ]
    },
    {
      "cell_type": "code",
      "execution_count": 6,
      "metadata": {
        "id": "pIuZ0ThX-oIk"
      },
      "outputs": [],
      "source": [
        "# @title Vertex AI LLM wrapper for using with Langchain\n",
        "# Credits:\n",
        "#  pmarlow@: go/vertex-on-langchain-source\n",
        "# Note:\n",
        "# - 04/19: Eventually this will be replaced by Langchain + Vertex AI integration\n",
        "\n",
        "import vertexai\n",
        "vertexai.init(project=project_id, location=location)\n",
        "\n",
        "import time\n",
        "from typing import Any, Mapping, List, Dict, Optional, Tuple\n",
        "\n",
        "from pydantic import BaseModel, Extra, root_validator\n",
        "\n",
        "from langchain.llms.base import LLM\n",
        "from langchain.embeddings.base import Embeddings\n",
        "from langchain.chat_models.base import BaseChatModel\n",
        "from langchain.llms.utils import enforce_stop_tokens\n",
        "from langchain.schema import Generation, LLMResult\n",
        "from langchain.schema import AIMessage, BaseMessage, ChatGeneration, ChatResult, HumanMessage, SystemMessage\n",
        "\n",
        "from vertexai.preview.language_models import TextGenerationModel, TextEmbeddingModel, ChatModel\n",
        "\n",
        "\n",
        "def rate_limit(max_per_minute):\n",
        "  period = 60 / max_per_minute\n",
        "  while True:\n",
        "    before = time.time()\n",
        "    yield\n",
        "    after = time.time()\n",
        "    elapsed = after - before\n",
        "    sleep_time = max(0, period - elapsed)\n",
        "    if sleep_time > 0:\n",
        "      print(f'Sleeping {sleep_time:.1f} seconds')\n",
        "      time.sleep(sleep_time)\n",
        "\n",
        "\n",
        "class _VertexCommon(BaseModel):\n",
        "    \"\"\"Wrapper around Vertex AI large language models.\n",
        "\n",
        "    \"\"\"\n",
        "    client: Any = None #: :meta private:\n",
        "    model_name: str = \"text-bison@001\"\n",
        "    \"\"\"Model name to use.\"\"\"\n",
        "\n",
        "    temperature: float = 0.2\n",
        "    \"\"\"What sampling temperature to use.\"\"\"\n",
        "\n",
        "    top_p: int = 0.8\n",
        "    \"\"\"Total probability mass of tokens to consider at each step.\"\"\"\n",
        "\n",
        "    top_k: int = 40\n",
        "    \"\"\"The number of highest probability tokens to keep for top-k filtering.\"\"\"\n",
        "\n",
        "    max_output_tokens: int = 200\n",
        "    \"\"\"The maximum number of tokens to generate in the completion.\"\"\"\n",
        "\n",
        "    @property\n",
        "    def _default_params(self) -> Mapping[str, Any]:\n",
        "        \"\"\"Get the default parameters for calling Vertex AI API.\"\"\"\n",
        "        return {\n",
        "            \"temperature\": self.temperature,\n",
        "            \"top_p\": self.top_p,\n",
        "            \"top_k\": self.top_k,\n",
        "            \"max_output_tokens\": self.max_output_tokens\n",
        "        }\n",
        "\n",
        "    def _predict(self, prompt: str, stop: Optional[List[str]]) -> str:\n",
        "        res = self.client.predict(prompt, **self._default_params)\n",
        "        return self._enforce_stop_words(res.text, stop)\n",
        "\n",
        "    def _enforce_stop_words(self, text: str, stop: Optional[List[str]]) -> str:\n",
        "        if stop:\n",
        "            return enforce_stop_tokens(text, stop)\n",
        "        return text\n",
        "\n",
        "    @property\n",
        "    def _llm_type(self) -> str:\n",
        "        \"\"\"Return type of llm.\"\"\"\n",
        "        return \"vertex_ai\"\n",
        "\n",
        "class VertexLLM(_VertexCommon, LLM):\n",
        "    model_name: str = \"text-bison@001\"\n",
        "\n",
        "    @root_validator()\n",
        "    def validate_environment(cls, values: Dict) -> Dict:\n",
        "        \"\"\"Validate that the python package exists in environment.\"\"\"\n",
        "\n",
        "        try:\n",
        "            values[\"client\"] = TextGenerationModel.from_pretrained(values[\"model_name\"])\n",
        "        except AttributeError:\n",
        "            raise ValueError(\n",
        "                \"Could not set Vertex Text Model client.\"\n",
        "            )\n",
        "\n",
        "        return values\n",
        "\n",
        "    def _call(self, prompt: str, stop: Optional[List[str]] = None) -> str:\n",
        "        \"\"\"Call out to Vertex AI's create endpoint.\n",
        "\n",
        "        Args:\n",
        "            prompt: The prompt to pass into the model.\n",
        "\n",
        "        Returns:\n",
        "            The string generated by the model.\n",
        "        \"\"\"\n",
        "        return self._predict(prompt, stop)\n",
        "\n",
        "\n",
        "class _VertexChatCommon(_VertexCommon):\n",
        "    \"\"\"Wrapper around Vertex AI Chat large language models.\n",
        "\n",
        "\n",
        "    \"\"\"\n",
        "    model_name: str = \"chat-bison@001\"\n",
        "    \"\"\"Model name to use.\"\"\"\n",
        "\n",
        "    @root_validator()\n",
        "    def validate_environment(cls, values: Dict) -> Dict:\n",
        "        \"\"\"Validate that the python package exists in environment.\"\"\"\n",
        "\n",
        "\n",
        "        try:\n",
        "            values[\"client\"] = ChatModel.from_pretrained(values[\"model_name\"])\n",
        "        except AttributeError:\n",
        "            raise ValueError(\n",
        "                \"Could not set Vertex Text Model client.\"\n",
        "            )\n",
        "\n",
        "        return values\n",
        "\n",
        "    def _response_to_chat_results(\n",
        "        self, response: object, stop: Optional[List[str]]\n",
        "    ) -> ChatResult:\n",
        "        text = self._enforce_stop_words(response.text, stop)\n",
        "        return ChatResult(generations=[ChatGeneration(message=AIMessage(content=text))])\n",
        "\n",
        "class VertexChat(_VertexChatCommon, BaseChatModel):\n",
        "    \"\"\"Wrapper around Vertex AI large language models.\"\"\"\n",
        "\n",
        "    def _generate(\n",
        "        self, messages: List[BaseMessage], stop: Optional[List[str]] = None\n",
        "    ) -> ChatResult:\n",
        "        chat, prompt = self._start_chat(messages)\n",
        "        response = chat.send_message(prompt)\n",
        "        return self._response_to_chat_results(response, stop=stop)\n",
        "\n",
        "    def _start_chat(\n",
        "        self, messages: List[BaseMessage]\n",
        "    ) -> Tuple[object, str]:\n",
        "        \"\"\"Start a chat.\n",
        "        Args:\n",
        "            messages: a list of BaseMessage.\n",
        "        Returns:\n",
        "            a tuple that has a Vertex AI chat model initializes, and a prompt to send to the model.\n",
        "        Currently it expects either one HumanMessage, or two message (SystemMessage and HumanMessage).\n",
        "        If two messages are provided, the first one would be use for context.\n",
        "        \"\"\"\n",
        "        if len(messages) == 1:\n",
        "            message = messages[0]\n",
        "            if not isinstance(message, HumanMessage):\n",
        "                raise ValueError(\"Message should be from a human if it's the first one.\")\n",
        "            context, prompt = None, message.content\n",
        "        elif len(messages) == 2:\n",
        "            first_message, second_message = messages[0], messages[1]\n",
        "            if not isinstance(first_message, SystemMessage):\n",
        "                raise ValueError(\n",
        "                    \"The first message should be a system if there're two of them.\"\n",
        "                )\n",
        "            if not isinstance(second_message, HumanMessage):\n",
        "                raise ValueError(\"The second message should be from a human.\")\n",
        "            context, prompt = first_message.content, second_message.content\n",
        "        else:\n",
        "            raise ValueError(f\"Chat model expects only one or two messages. Received {len(messages)}\")\n",
        "        chat = self.client.start_chat(context=context, **self._default_params)\n",
        "        return chat, prompt\n",
        "\n",
        "    async def _agenerate(\n",
        "        self, messages: List[BaseMessage], stop: Optional[List[str]] = None\n",
        "    ) -> ChatResult:\n",
        "        raise NotImplementedError(\n",
        "            \"\"\"Vertex AI doesn't support async requests at the moment.\"\"\"\n",
        "        )\n",
        "\n",
        "\n",
        "class VertexMultiTurnChat(_VertexChatCommon, BaseChatModel):\n",
        "    \"\"\"Wrapper around Vertex AI large language models.\"\"\"\n",
        "\n",
        "    chat: Optional[object] = None\n",
        "\n",
        "    def clear_chat(self) -> None:\n",
        "        self.chat = None\n",
        "\n",
        "    def start_chat(self, message: Optional[SystemMessage] = None) -> None:\n",
        "        if self.chat:\n",
        "            raise ValueError(\"Chat has already been started. Please, clear it first.\")\n",
        "        if message and not isinstance(message, SystemMessage):\n",
        "            raise ValueError(\"Context should be a system message\")\n",
        "        context = message.content if message else None\n",
        "        self.chat = self.client.start_chat(context=context, **self._default_params)\n",
        "\n",
        "    @property\n",
        "    def history(self) -> List[Tuple[str]]:\n",
        "        \"\"\"Chat history.\"\"\"\n",
        "        if self.chat:\n",
        "            return self.chat._history\n",
        "        return []\n",
        "\n",
        "    def _generate(\n",
        "        self, messages: List[BaseMessage], stop: Optional[List[str]] = None\n",
        "    ) -> ChatResult:\n",
        "        if len(messages) != 1:\n",
        "            raise ValueError(\n",
        "                \"You should send exactly one message to the chat each turn.\"\n",
        "            )\n",
        "        if not self.chat:\n",
        "            raise ValueError(\"You should start_chat first!\")\n",
        "        response = self.chat.send_message(messages[0].content)\n",
        "        return self._response_to_chat_results(response, stop=stop)\n",
        "\n",
        "    async def _agenerate(\n",
        "        self, messages: List[BaseMessage], stop: Optional[List[str]] = None\n",
        "    ) -> ChatResult:\n",
        "        raise NotImplementedError(\n",
        "            \"\"\"Vertex AI doesn't support async requests at the moment.\"\"\"\n",
        "        )\n",
        "\n",
        "class VertexEmbeddings(Embeddings, BaseModel):\n",
        "    \"\"\"Wrapper around Vertex AI large language models embeddings API.\n",
        "    \"\"\"\n",
        "    model_name: str = \"textembedding-gecko@001\"\n",
        "    \"\"\"Model name to use.\"\"\"\n",
        "\n",
        "    model: Any\n",
        "    requests_per_minute: int = 15\n",
        "\n",
        "\n",
        "    @root_validator()\n",
        "    def validate_environment(cls, values: Dict) -> Dict:\n",
        "        \"\"\"Validate that the python package exists in environment.\"\"\"\n",
        "\n",
        "        try:\n",
        "            values[\"model\"] = TextEmbeddingModel\n",
        "\n",
        "        except AttributeError:\n",
        "            raise ValueError(\n",
        "                \"Could not set Vertex Text Model client.\"\n",
        "            )\n",
        "\n",
        "        return values\n",
        "\n",
        "    class Config:\n",
        "        \"\"\"Configuration for this pydantic object.\"\"\"\n",
        "\n",
        "        extra = Extra.forbid\n",
        "\n",
        "    def embed_documents(self, texts: List[str]) -> List[List[float]]:\n",
        "      \"\"\"Call Vertex LLM embedding endpoint for embedding docs\n",
        "      Args:\n",
        "          texts: The list of texts to embed.\n",
        "      Returns:\n",
        "          List of embeddings, one for each text.\n",
        "      \"\"\"\n",
        "      self.model = self.model.from_pretrained(self.model_name)\n",
        "\n",
        "      limiter = rate_limit(self.requests_per_minute)\n",
        "      results = []\n",
        "      docs = list(texts)\n",
        "\n",
        "      while docs:\n",
        "        # Working in batches of 2 because the API apparently won't let\n",
        "        # us send more than 2 documents per request to get embeddings.\n",
        "        head, docs = docs[:2], docs[2:]\n",
        "        # print(f'Sending embedding request for: {head!r}')\n",
        "        chunk = self.model.get_embeddings(head)\n",
        "        results.extend(chunk)\n",
        "        next(limiter)\n",
        "\n",
        "      return [r.values for r in results]\n",
        "\n",
        "    def embed_query(self, text: str) -> List[float]:\n",
        "      \"\"\"Call Vertex LLM embedding endpoint for embedding query text.\n",
        "      Args:\n",
        "        text: The text to embed.\n",
        "      Returns:\n",
        "        Embedding for the text.\n",
        "      \"\"\"\n",
        "      single_result = self.embed_documents([text])\n",
        "      return single_result[0]\n",
        "\n"
      ]
    },
    {
      "cell_type": "code",
      "execution_count": null,
      "metadata": {},
      "outputs": [],
      "source": [
        "#Initialize a model\n",
        "llm = VertexLLM(\n",
        "    model_name='text-bison@001',\n",
        "    max_output_tokens=256,\n",
        "    temperature=0,\n",
        "    top_p=0.8,top_k=40,\n",
        "    verbose=True,\n",
        ")"
      ]
    },
    {
      "cell_type": "markdown",
      "metadata": {
        "id": "LqDhLithzJgd"
      },
      "source": [
        "### Create SQL engine for BigQuery"
      ]
    },
    {
      "cell_type": "code",
      "execution_count": 8,
      "metadata": {
        "id": "NmRwdkm9Mm_u"
      },
      "outputs": [],
      "source": [
        "from sqlalchemy import *\n",
        "from sqlalchemy.engine import create_engine\n",
        "from sqlalchemy.schema import *\n",
        "import pandas as pd"
      ]
    },
    {
      "cell_type": "code",
      "execution_count": 12,
      "metadata": {
        "id": "nBzy1sV51h1e"
      },
      "outputs": [
        {
          "name": "stderr",
          "output_type": "stream",
          "text": [
            "/var/folders/2d/5x1qt3_d7ws279ckf_0kcl140000gn/T/ipykernel_25153/1175509996.py:2: SADeprecationWarning: The dbapi() classmethod on dialect classes has been renamed to import_dbapi().  Implement an import_dbapi() classmethod directly on class <class 'sqlalchemy_bigquery.base.BigQueryDialect'> to remove this warning; the old .dbapi() classmethod may be maintained for backwards compatibility.\n",
            "  engine = create_engine(f\"bigquery://{project_id}/{dataset_id}\")\n"
          ]
        },
        {
          "name": "stdout",
          "output_type": "stream",
          "text": [
            "Unexpected exception formatting exception. Falling back to standard exception\n"
          ]
        },
        {
          "name": "stderr",
          "output_type": "stream",
          "text": [
            "Traceback (most recent call last):\n",
            "  File \"/Users/inawani001/Documents/Code/gen-ai/.venv/lib/python3.10/site-packages/IPython/core/interactiveshell.py\", line 3508, in run_code\n",
            "    exec(code_obj, self.user_global_ns, self.user_ns)\n",
            "  File \"/var/folders/2d/5x1qt3_d7ws279ckf_0kcl140000gn/T/ipykernel_25153/1175509996.py\", line 2, in <module>\n",
            "    engine = create_engine(f\"bigquery://{project_id}/{dataset_id}\")\n",
            "  File \"<string>\", line 2, in create_engine\n",
            "  File \"/Users/inawani001/Documents/Code/gen-ai/.venv/lib/python3.10/site-packages/sqlalchemy/util/deprecations.py\", line 281, in warned\n",
            "    return fn(*args, **kwargs)  # type: ignore[no-any-return]\n",
            "  File \"/Users/inawani001/Documents/Code/gen-ai/.venv/lib/python3.10/site-packages/sqlalchemy/engine/create.py\", line 617, in create_engine\n",
            "    (cargs_tup, cparams) = dialect.create_connect_args(u)\n",
            "  File \"/Users/inawani001/Documents/Code/gen-ai/.venv/lib/python3.10/site-packages/sqlalchemy_bigquery/base.py\", line 827, in create_connect_args\n",
            "    client = _helpers.create_bigquery_client(\n",
            "  File \"/Users/inawani001/Documents/Code/gen-ai/.venv/lib/python3.10/site-packages/sqlalchemy_bigquery/_helpers.py\", line 58, in create_bigquery_client\n",
            "    credentials, default_project = google.auth.default(scopes=SCOPES)\n",
            "  File \"/Users/inawani001/Documents/Code/gen-ai/.venv/lib/python3.10/site-packages/google/auth/_default.py\", line 692, in default\n",
            "    raise exceptions.DefaultCredentialsError(_CLOUD_SDK_MISSING_CREDENTIALS)\n",
            "google.auth.exceptions.DefaultCredentialsError: Your default credentials were not found. To set up Application Default Credentials, see https://cloud.google.com/docs/authentication/external/set-up-adc for more information.\n",
            "\n",
            "During handling of the above exception, another exception occurred:\n",
            "\n",
            "Traceback (most recent call last):\n",
            "  File \"/Users/inawani001/Documents/Code/gen-ai/.venv/lib/python3.10/site-packages/IPython/core/interactiveshell.py\", line 2105, in showtraceback\n",
            "    stb = self.InteractiveTB.structured_traceback(\n",
            "  File \"/Users/inawani001/Documents/Code/gen-ai/.venv/lib/python3.10/site-packages/IPython/core/ultratb.py\", line 1428, in structured_traceback\n",
            "    return FormattedTB.structured_traceback(\n",
            "  File \"/Users/inawani001/Documents/Code/gen-ai/.venv/lib/python3.10/site-packages/IPython/core/ultratb.py\", line 1319, in structured_traceback\n",
            "    return VerboseTB.structured_traceback(\n",
            "  File \"/Users/inawani001/Documents/Code/gen-ai/.venv/lib/python3.10/site-packages/IPython/core/ultratb.py\", line 1172, in structured_traceback\n",
            "    formatted_exception = self.format_exception_as_a_whole(etype, evalue, etb, number_of_lines_of_context,\n",
            "  File \"/Users/inawani001/Documents/Code/gen-ai/.venv/lib/python3.10/site-packages/IPython/core/ultratb.py\", line 1087, in format_exception_as_a_whole\n",
            "    frames.append(self.format_record(record))\n",
            "  File \"/Users/inawani001/Documents/Code/gen-ai/.venv/lib/python3.10/site-packages/IPython/core/ultratb.py\", line 969, in format_record\n",
            "    frame_info.lines, Colors, self.has_colors, lvals\n",
            "  File \"/Users/inawani001/Documents/Code/gen-ai/.venv/lib/python3.10/site-packages/IPython/core/ultratb.py\", line 792, in lines\n",
            "    return self._sd.lines\n",
            "  File \"/Users/inawani001/Documents/Code/gen-ai/.venv/lib/python3.10/site-packages/stack_data/utils.py\", line 144, in cached_property_wrapper\n",
            "    value = obj.__dict__[self.func.__name__] = self.func(obj)\n",
            "  File \"/Users/inawani001/Documents/Code/gen-ai/.venv/lib/python3.10/site-packages/stack_data/core.py\", line 734, in lines\n",
            "    pieces = self.included_pieces\n",
            "  File \"/Users/inawani001/Documents/Code/gen-ai/.venv/lib/python3.10/site-packages/stack_data/utils.py\", line 144, in cached_property_wrapper\n",
            "    value = obj.__dict__[self.func.__name__] = self.func(obj)\n",
            "  File \"/Users/inawani001/Documents/Code/gen-ai/.venv/lib/python3.10/site-packages/stack_data/core.py\", line 681, in included_pieces\n",
            "    pos = scope_pieces.index(self.executing_piece)\n",
            "  File \"/Users/inawani001/Documents/Code/gen-ai/.venv/lib/python3.10/site-packages/stack_data/utils.py\", line 144, in cached_property_wrapper\n",
            "    value = obj.__dict__[self.func.__name__] = self.func(obj)\n",
            "  File \"/Users/inawani001/Documents/Code/gen-ai/.venv/lib/python3.10/site-packages/stack_data/core.py\", line 660, in executing_piece\n",
            "    return only(\n",
            "  File \"/Users/inawani001/Documents/Code/gen-ai/.venv/lib/python3.10/site-packages/executing/executing.py\", line 190, in only\n",
            "    raise NotOneValueFound('Expected one value, found 0')\n",
            "executing.executing.NotOneValueFound: Expected one value, found 0\n"
          ]
        }
      ],
      "source": [
        "table_uri = f\"bigquery://{project_id}/{dataset_id}\"\n",
        "engine = create_engine(f\"bigquery://{project_id}/{dataset_id}\")"
      ]
    },
    {
      "cell_type": "code",
      "execution_count": null,
      "metadata": {
        "colab": {
          "base_uri": "https://localhost:8080/"
        },
        "id": "2_8Jr90a104A",
        "outputId": "299a36c9-acb4-42ec-c1c4-3e481200937a"
      },
      "outputs": [],
      "source": [
        "#Testing all tables\n",
        "query=f\"\"\"SELECT * FROM {project_id}.{dataset_id}.{table_name1}\"\"\"\n",
        "engine.execute(query).first()"
      ]
    },
    {
      "cell_type": "code",
      "execution_count": null,
      "metadata": {
        "colab": {
          "base_uri": "https://localhost:8080/"
        },
        "id": "B66bo-RKK266",
        "outputId": "23d59f7d-0364-4851-df49-f59bfa85e397"
      },
      "outputs": [
        {
          "data": {
            "text/plain": [
              "(4319703577, 'London', 'UK')"
            ]
          },
          "execution_count": 6,
          "metadata": {},
          "output_type": "execute_result"
        }
      ],
      "source": [
        "query=f\"\"\"SELECT * FROM {project_id}.{dataset_id}.{table_name2}\"\"\"\n",
        "engine.execute(query).first()"
      ]
    },
    {
      "cell_type": "code",
      "execution_count": null,
      "metadata": {
        "colab": {
          "base_uri": "https://localhost:8080/"
        },
        "id": "Cw2oOnvkK3QD",
        "outputId": "aefe19fc-720f-444f-e05e-9f1d4fd09401"
      },
      "outputs": [
        {
          "data": {
            "text/plain": [
              "('27.25', datetime.date(2016, 4, 18), None, 4388161847, True, 1461023999000, 69.6999969482422, 153.662190014971)"
            ]
          },
          "execution_count": 7,
          "metadata": {},
          "output_type": "execute_result"
        }
      ],
      "source": [
        "query=f\"\"\"SELECT * FROM {project_id}.{dataset_id}.{table_name3}\"\"\"\n",
        "engine.execute(query).first()"
      ]
    },
    {
      "cell_type": "markdown",
      "metadata": {
        "id": "mpW-rMVI0DUZ"
      },
      "source": [
        "### SQL Chain setup for LLM"
      ]
    },
    {
      "cell_type": "code",
      "execution_count": null,
      "metadata": {
        "id": "7JmfJcgP5EhU"
      },
      "outputs": [],
      "source": [
        "from langchain import SQLDatabase, SQLDatabaseChain\n",
        "from langchain.prompts.prompt import PromptTemplate\n",
        "\n",
        "def bq_qna(question):\n",
        "  #create SQLDatabase instance from BQ engine\n",
        "  db = SQLDatabase(engine=engine,metadata=MetaData(bind=engine),include_tables=[x for x in table_names])\n",
        "\n",
        "  #create SQL DB Chain with the initialized LLM and above SQLDB instance\n",
        "  db_chain = SQLDatabaseChain.from_llm(llm, db, verbose=True, return_intermediate_steps=True)\n",
        "\n",
        "  #Define prompt for BigQuery SQL\n",
        "  _googlesql_prompt = \"\"\"You are a GoogleSQL expert. Given an input question, first create a syntactically correct GoogleSQL query to run, then look at the results of the query and return the answer to the input question.\n",
        "  Unless the user specifies in the question a specific number of examples to obtain, query for at most {top_k} results using the LIMIT clause as per GoogleSQL. You can order the results to return the most informative data in the database.\n",
        "  Never query for all columns from a table. You must query only the columns that are needed to answer the question. Wrap each column name in backticks (`) to denote them as delimited identifiers.\n",
        "  Pay attention to use only the column names you can see in the tables below. Be careful to not query for columns that do not exist. Also, pay attention to which column is in which table.\n",
        "  Use the following format:\n",
        "  Question: \"Question here\"\n",
        "  SQLQuery: \"SQL Query to run\"\n",
        "  SQLResult: \"Result of the SQLQuery\"\n",
        "  Answer: \"Final answer here\"\n",
        "  Only use the following tables:\n",
        "  {table_info}\n",
        "\n",
        "  If someone asks for aggregation on a STRING data type column, then CAST column as NUMERIC before you do the aggregation.\n",
        "\n",
        "  If someone asks for specific month, use ActivityDate between current month's start date and current month's end date\n",
        "\n",
        "  If someone asks for column names in the table, use the following format:\n",
        "  SELECT column_name\n",
        "  FROM `{project_id}.{dataset_id}`.INFORMATION_SCHEMA.COLUMNS\n",
        "  WHERE table_name in {table_info}\n",
        "\n",
        "  Question: {input}\"\"\"\n",
        "\n",
        "  GOOGLESQL_PROMPT = PromptTemplate(\n",
        "      input_variables=[\"input\", \"table_info\", \"top_k\", \"project_id\", \"dataset_id\"],\n",
        "      template=_googlesql_prompt,\n",
        "  )\n",
        "\n",
        "  #passing question to the prompt template\n",
        "  final_prompt = GOOGLESQL_PROMPT.format(input=question, project_id =project_id, dataset_id=dataset_id, table_info=table_names, top_k=10000)\n",
        "\n",
        "  #pass final prompt to SQL Chain\n",
        "  output = db_chain(final_prompt)\n",
        "\n",
        "\n",
        "  return output['result'], output['intermediate_steps'][1]\n"
      ]
    },
    {
      "cell_type": "markdown",
      "metadata": {
        "id": "LAlVAHPe16Xr"
      },
      "source": [
        "### Testing the setup"
      ]
    },
    {
      "cell_type": "code",
      "execution_count": null,
      "metadata": {
        "colab": {
          "base_uri": "https://localhost:8080/"
        },
        "id": "F5wmsihBD4tS",
        "outputId": "8d50b213-bfb3-4e3b-d67c-6b0996e49029"
      },
      "outputs": [
        {
          "name": "stdout",
          "output_type": "stream",
          "text": [
            "\n",
            "\n",
            "\u001b[1m> Entering new SQLDatabaseChain chain...\u001b[0m\n",
            "You are a GoogleSQL expert. Given an input question, first create a syntactically correct GoogleSQL query to run, then look at the results of the query and return the answer to the input question.\n",
            "  Unless the user specifies in the question a specific number of examples to obtain, query for at most 10000 results using the LIMIT clause as per GoogleSQL. You can order the results to return the most informative data in the database.\n",
            "  Never query for all columns from a table. You must query only the columns that are needed to answer the question. Wrap each column name in backticks (`) to denote them as delimited identifiers.\n",
            "  Pay attention to use only the column names you can see in the tables below. Be careful to not query for columns that do not exist. Also, pay attention to which column is in which table.\n",
            "  Use the following format:\n",
            "  Question: \"Question here\"\n",
            "  SQLQuery: \"SQL Query to run\"\n",
            "  SQLResult: \"Result of the SQLQuery\"\n",
            "  Answer: \"Final answer here\"\n",
            "  Only use the following tables:\n",
            "  ('user_activity', 'user_location', 'user_weight_final')\n",
            "\n",
            "  If someone asks for aggregation on a STRING data type column, then CAST column as NUMERIC before you do the aggregation.\n",
            "\n",
            "  If someone asks for specific month, use ActivityDate between current month's start date and current month's end date\n",
            "\n",
            "  If someone asks for column names in the table, use the following format:\n",
            "  SELECT column_name\n",
            "  FROM `cloud-llm-preview1.blackbelt_capstone_healthcare`.INFORMATION_SCHEMA.COLUMNS\n",
            "  WHERE table_name in ('user_activity', 'user_location', 'user_weight_final')\n",
            "\n",
            "  Question: what is the minimum number of TotalSteps for Id 1644430081\n",
            "SQLQuery:\u001b[32;1m\u001b[1;3mSELECT MIN(TotalSteps) AS MinTotalSteps\n",
            "FROM `cloud-llm-preview1.blackbelt_capstone_healthcare.user_activity`\n",
            "WHERE Id = 1644430081\u001b[0m\n",
            "SQLResult: \u001b[33;1m\u001b[1;3m[(1223,)]\u001b[0m\n",
            "Answer:\u001b[32;1m\u001b[1;3m1223\u001b[0m\n",
            "\u001b[1m> Finished chain.\u001b[0m\n"
          ]
        },
        {
          "data": {
            "text/plain": [
              "('1223',\n",
              " 'SELECT MIN(TotalSteps) AS MinTotalSteps\\nFROM `cloud-llm-preview1.blackbelt_capstone_healthcare.user_activity`\\nWHERE Id = 1644430081')"
            ]
          },
          "execution_count": 9,
          "metadata": {},
          "output_type": "execute_result"
        }
      ],
      "source": [
        "#Testing 1\n",
        "bq_qna('what is the minimum number of TotalSteps for Id 1644430081')"
      ]
    },
    {
      "cell_type": "code",
      "execution_count": null,
      "metadata": {
        "colab": {
          "base_uri": "https://localhost:8080/"
        },
        "id": "-ypFevIgGNl1",
        "outputId": "73d431b2-9f65-43d4-91e9-7b799663b141"
      },
      "outputs": [
        {
          "name": "stdout",
          "output_type": "stream",
          "text": [
            "\n",
            "\n",
            "\u001b[1m> Entering new SQLDatabaseChain chain...\u001b[0m\n",
            "You are a GoogleSQL expert. Given an input question, first create a syntactically correct GoogleSQL query to run, then look at the results of the query and return the answer to the input question.\n",
            "  Unless the user specifies in the question a specific number of examples to obtain, query for at most 10000 results using the LIMIT clause as per GoogleSQL. You can order the results to return the most informative data in the database.\n",
            "  Never query for all columns from a table. You must query only the columns that are needed to answer the question. Wrap each column name in backticks (`) to denote them as delimited identifiers.\n",
            "  Pay attention to use only the column names you can see in the tables below. Be careful to not query for columns that do not exist. Also, pay attention to which column is in which table.\n",
            "  Use the following format:\n",
            "  Question: \"Question here\"\n",
            "  SQLQuery: \"SQL Query to run\"\n",
            "  SQLResult: \"Result of the SQLQuery\"\n",
            "  Answer: \"Final answer here\"\n",
            "  Only use the following tables:\n",
            "  ('user_activity', 'user_location', 'user_weight_final')\n",
            "\n",
            "  If someone asks for aggregation on a STRING data type column, then CAST column as NUMERIC before you do the aggregation.\n",
            "\n",
            "  If someone asks for specific month, use ActivityDate between current month's start date and current month's end date\n",
            "\n",
            "  If someone asks for column names in the table, use the following format:\n",
            "  SELECT column_name\n",
            "  FROM `cloud-llm-preview1.blackbelt_capstone_healthcare`.INFORMATION_SCHEMA.COLUMNS\n",
            "  WHERE table_name in ('user_activity', 'user_location', 'user_weight_final')\n",
            "\n",
            "  Question: what is the highest number of Calories burnt in the month of May by 1644430081\n",
            "SQLQuery:\u001b[32;1m\u001b[1;3mSELECT MAX(Calories) FROM `cloud-llm-preview1.blackbelt_capstone_healthcare.user_activity` WHERE ActivityDate BETWEEN '2016-05-01' AND '2016-05-31' AND Id = 1644430081\u001b[0m\n",
            "SQLResult: \u001b[33;1m\u001b[1;3m[(3404,)]\u001b[0m\n",
            "Answer:\u001b[32;1m\u001b[1;3m3404\u001b[0m\n",
            "\u001b[1m> Finished chain.\u001b[0m\n"
          ]
        },
        {
          "data": {
            "text/plain": [
              "('3404',\n",
              " \"SELECT MAX(Calories) FROM `cloud-llm-preview1.blackbelt_capstone_healthcare.user_activity` WHERE ActivityDate BETWEEN '2016-05-01' AND '2016-05-31' AND Id = 1644430081\")"
            ]
          },
          "execution_count": 10,
          "metadata": {},
          "output_type": "execute_result"
        }
      ],
      "source": [
        "#Testing 2\n",
        "bq_qna('what is the highest number of Calories burnt in the month of May by 1644430081')"
      ]
    },
    {
      "cell_type": "code",
      "execution_count": null,
      "metadata": {
        "colab": {
          "base_uri": "https://localhost:8080/"
        },
        "id": "78z0zs8cLdJ0",
        "outputId": "c3ffb274-66af-455e-f5e8-1b79795e071e"
      },
      "outputs": [
        {
          "name": "stdout",
          "output_type": "stream",
          "text": [
            "\n",
            "\n",
            "\u001b[1m> Entering new SQLDatabaseChain chain...\u001b[0m\n",
            "You are a GoogleSQL expert. Given an input question, first create a syntactically correct GoogleSQL query to run, then look at the results of the query and return the answer to the input question.\n",
            "  Unless the user specifies in the question a specific number of examples to obtain, query for at most 10000 results using the LIMIT clause as per GoogleSQL. You can order the results to return the most informative data in the database.\n",
            "  Never query for all columns from a table. You must query only the columns that are needed to answer the question. Wrap each column name in backticks (`) to denote them as delimited identifiers.\n",
            "  Pay attention to use only the column names you can see in the tables below. Be careful to not query for columns that do not exist. Also, pay attention to which column is in which table.\n",
            "  Use the following format:\n",
            "  Question: \"Question here\"\n",
            "  SQLQuery: \"SQL Query to run\"\n",
            "  SQLResult: \"Result of the SQLQuery\"\n",
            "  Answer: \"Final answer here\"\n",
            "  Only use the following tables:\n",
            "  ('user_activity', 'user_location', 'user_weight_final')\n",
            "\n",
            "  If someone asks for aggregation on a STRING data type column, then CAST column as NUMERIC before you do the aggregation.\n",
            "\n",
            "  If someone asks for specific month, use ActivityDate between current month's start date and current month's end date\n",
            "\n",
            "  If someone asks for column names in the table, use the following format:\n",
            "  SELECT column_name\n",
            "  FROM `cloud-llm-preview1.blackbelt_capstone_healthcare`.INFORMATION_SCHEMA.COLUMNS\n",
            "  WHERE table_name in ('user_activity', 'user_location', 'user_weight_final')\n",
            "\n",
            "  Question: what are the columns in the table user_activity\n",
            "SQLQuery:\u001b[32;1m\u001b[1;3mSELECT column_name\n",
            "FROM `cloud-llm-preview1.blackbelt_capstone_healthcare`.INFORMATION_SCHEMA.COLUMNS\n",
            "WHERE table_name in ('user_activity')\u001b[0m\n",
            "SQLResult: \u001b[33;1m\u001b[1;3m[('Id',), ('ActivityDate',), ('TotalSteps',), ('TotalDistance',), ('TrackerDistance',), ('LoggedActivitiesDistance',), ('VeryActiveDistance',), ('ModeratelyActiveDistance',), ('LightActiveDistance',), ('SedentaryActiveDistance',), ('VeryActiveMinutes',), ('FairlyActiveMinutes',), ('LightlyActiveMinutes',), ('SedentaryMinutes',), ('Calories',)]\u001b[0m\n",
            "Answer:\u001b[32;1m\u001b[1;3m\u001b[0m\n",
            "\u001b[1m> Finished chain.\u001b[0m\n"
          ]
        },
        {
          "data": {
            "text/plain": [
              "('',\n",
              " \"SELECT column_name\\nFROM `cloud-llm-preview1.blackbelt_capstone_healthcare`.INFORMATION_SCHEMA.COLUMNS\\nWHERE table_name in ('user_activity')\")"
            ]
          },
          "execution_count": 11,
          "metadata": {},
          "output_type": "execute_result"
        }
      ],
      "source": [
        "#Testing 3 - Metadata queries\n",
        "bq_qna('what are the columns in the table user_activity')"
      ]
    },
    {
      "cell_type": "code",
      "execution_count": null,
      "metadata": {
        "colab": {
          "base_uri": "https://localhost:8080/"
        },
        "id": "lNL16fEJMo2b",
        "outputId": "edd30b4c-8d66-4b46-d0b7-7a796e3322fd"
      },
      "outputs": [
        {
          "name": "stdout",
          "output_type": "stream",
          "text": [
            "\n",
            "\n",
            "\u001b[1m> Entering new SQLDatabaseChain chain...\u001b[0m\n",
            "You are a GoogleSQL expert. Given an input question, first create a syntactically correct GoogleSQL query to run, then look at the results of the query and return the answer to the input question.\n",
            "  Unless the user specifies in the question a specific number of examples to obtain, query for at most 10000 results using the LIMIT clause as per GoogleSQL. You can order the results to return the most informative data in the database.\n",
            "  Never query for all columns from a table. You must query only the columns that are needed to answer the question. Wrap each column name in backticks (`) to denote them as delimited identifiers.\n",
            "  Pay attention to use only the column names you can see in the tables below. Be careful to not query for columns that do not exist. Also, pay attention to which column is in which table.\n",
            "  Use the following format:\n",
            "  Question: \"Question here\"\n",
            "  SQLQuery: \"SQL Query to run\"\n",
            "  SQLResult: \"Result of the SQLQuery\"\n",
            "  Answer: \"Final answer here\"\n",
            "  Only use the following tables:\n",
            "  ('user_activity', 'user_location', 'user_weight_final')\n",
            "\n",
            "  If someone asks for aggregation on a STRING data type column, then CAST column as NUMERIC before you do the aggregation.\n",
            "\n",
            "  If someone asks for specific month, use ActivityDate between current month's start date and current month's end date\n",
            "\n",
            "  If someone asks for column names in the table, use the following format:\n",
            "  SELECT column_name\n",
            "  FROM `cloud-llm-preview1.blackbelt_capstone_healthcare`.INFORMATION_SCHEMA.COLUMNS\n",
            "  WHERE table_name in ('user_activity', 'user_location', 'user_weight_final')\n",
            "\n",
            "  Question: what is the average weight of users living in Mumbai\n",
            "SQLQuery:\u001b[32;1m\u001b[1;3mSELECT AVG(WeightKg) FROM `cloud-llm-preview1.blackbelt_capstone_healthcare.user_weight_final` AS t1 JOIN `cloud-llm-preview1.blackbelt_capstone_healthcare.user_location` AS t2 ON t1.Id = t2.Id WHERE t2.City = 'Mumbai'\u001b[0m\n",
            "SQLResult: \u001b[33;1m\u001b[1;3m[(52.5999984741211,)]\u001b[0m\n",
            "Answer:\u001b[32;1m\u001b[1;3m52.5999984741211\u001b[0m\n",
            "\u001b[1m> Finished chain.\u001b[0m\n"
          ]
        },
        {
          "data": {
            "text/plain": [
              "('52.5999984741211',\n",
              " \"SELECT AVG(WeightKg) FROM `cloud-llm-preview1.blackbelt_capstone_healthcare.user_weight_final` AS t1 JOIN `cloud-llm-preview1.blackbelt_capstone_healthcare.user_location` AS t2 ON t1.Id = t2.Id WHERE t2.City = 'Mumbai'\")"
            ]
          },
          "execution_count": 12,
          "metadata": {},
          "output_type": "execute_result"
        }
      ],
      "source": [
        "#Testing 4 - Joins\n",
        "bq_qna('what is the average weight of users living in Mumbai')"
      ]
    },
    {
      "cell_type": "code",
      "execution_count": null,
      "metadata": {
        "colab": {
          "base_uri": "https://localhost:8080/"
        },
        "id": "c1aSee4pM886",
        "outputId": "8f77aa0e-a19e-4505-e9ee-cb62d1dae95c"
      },
      "outputs": [
        {
          "name": "stdout",
          "output_type": "stream",
          "text": [
            "\n",
            "\n",
            "\u001b[1m> Entering new SQLDatabaseChain chain...\u001b[0m\n",
            "You are a GoogleSQL expert. Given an input question, first create a syntactically correct GoogleSQL query to run, then look at the results of the query and return the answer to the input question.\n",
            "  Unless the user specifies in the question a specific number of examples to obtain, query for at most 10000 results using the LIMIT clause as per GoogleSQL. You can order the results to return the most informative data in the database.\n",
            "  Never query for all columns from a table. You must query only the columns that are needed to answer the question. Wrap each column name in backticks (`) to denote them as delimited identifiers.\n",
            "  Pay attention to use only the column names you can see in the tables below. Be careful to not query for columns that do not exist. Also, pay attention to which column is in which table.\n",
            "  Use the following format:\n",
            "  Question: \"Question here\"\n",
            "  SQLQuery: \"SQL Query to run\"\n",
            "  SQLResult: \"Result of the SQLQuery\"\n",
            "  Answer: \"Final answer here\"\n",
            "  Only use the following tables:\n",
            "  ('user_activity', 'user_location', 'user_weight_final')\n",
            "\n",
            "  If someone asks for aggregation on a STRING data type column, then CAST column as NUMERIC before you do the aggregation.\n",
            "\n",
            "  If someone asks for specific month, use ActivityDate between current month's start date and current month's end date\n",
            "\n",
            "  If someone asks for column names in the table, use the following format:\n",
            "  SELECT column_name\n",
            "  FROM `cloud-llm-preview1.blackbelt_capstone_healthcare`.INFORMATION_SCHEMA.COLUMNS\n",
            "  WHERE table_name in ('user_activity', 'user_location', 'user_weight_final')\n",
            "\n",
            "  Question: give me lowest steps and weight for user living in Mumbai. I also want their ID\n",
            "SQLQuery:\u001b[32;1m\u001b[1;3mSELECT user_activity.Id, user_activity.TotalSteps, user_weight_final.WeightKg\n",
            "FROM user_activity\n",
            "JOIN user_location ON user_activity.Id = user_location.Id\n",
            "JOIN user_weight_final ON user_activity.Id = user_weight_final.Id\n",
            "WHERE user_location.City = 'Mumbai'\n",
            "ORDER BY user_activity.TotalSteps\n",
            "LIMIT 1\u001b[0m\n",
            "SQLResult: \u001b[33;1m\u001b[1;3m[(1624580081, 1510, 52.5999984741211)]\u001b[0m\n",
            "Answer:\u001b[32;1m\u001b[1;3m(1624580081, 1510, 52.5999984741211)\u001b[0m\n",
            "\u001b[1m> Finished chain.\u001b[0m\n"
          ]
        },
        {
          "data": {
            "text/plain": [
              "('(1624580081, 1510, 52.5999984741211)',\n",
              " \"SELECT user_activity.Id, user_activity.TotalSteps, user_weight_final.WeightKg\\nFROM user_activity\\nJOIN user_location ON user_activity.Id = user_location.Id\\nJOIN user_weight_final ON user_activity.Id = user_weight_final.Id\\nWHERE user_location.City = 'Mumbai'\\nORDER BY user_activity.TotalSteps\\nLIMIT 1\")"
            ]
          },
          "execution_count": 13,
          "metadata": {},
          "output_type": "execute_result"
        }
      ],
      "source": [
        "#Testing 5 - Joins\n",
        "bq_qna(\"\"\"give me lowest steps and weight for user living in Mumbai. I also want their ID\"\"\")"
      ]
    },
    {
      "cell_type": "code",
      "execution_count": null,
      "metadata": {
        "colab": {
          "base_uri": "https://localhost:8080/"
        },
        "id": "Rw70AMV2OfuF",
        "outputId": "f13bb56b-864d-49ff-d09a-179fb44d99be"
      },
      "outputs": [
        {
          "name": "stdout",
          "output_type": "stream",
          "text": [
            "\n",
            "\n",
            "\u001b[1m> Entering new SQLDatabaseChain chain...\u001b[0m\n",
            "You are a GoogleSQL expert. Given an input question, first create a syntactically correct GoogleSQL query to run, then look at the results of the query and return the answer to the input question.\n",
            "  Unless the user specifies in the question a specific number of examples to obtain, query for at most 10000 results using the LIMIT clause as per GoogleSQL. You can order the results to return the most informative data in the database.\n",
            "  Never query for all columns from a table. You must query only the columns that are needed to answer the question. Wrap each column name in backticks (`) to denote them as delimited identifiers.\n",
            "  Pay attention to use only the column names you can see in the tables below. Be careful to not query for columns that do not exist. Also, pay attention to which column is in which table.\n",
            "  Use the following format:\n",
            "  Question: \"Question here\"\n",
            "  SQLQuery: \"SQL Query to run\"\n",
            "  SQLResult: \"Result of the SQLQuery\"\n",
            "  Answer: \"Final answer here\"\n",
            "  Only use the following tables:\n",
            "  ('user_activity', 'user_location', 'user_weight_final')\n",
            "\n",
            "  If someone asks for aggregation on a STRING data type column, then CAST column as NUMERIC before you do the aggregation.\n",
            "\n",
            "  If someone asks for specific month, use ActivityDate between current month's start date and current month's end date\n",
            "\n",
            "  If someone asks for column names in the table, use the following format:\n",
            "  SELECT column_name\n",
            "  FROM `cloud-llm-preview1.blackbelt_capstone_healthcare`.INFORMATION_SCHEMA.COLUMNS\n",
            "  WHERE table_name in ('user_activity', 'user_location', 'user_weight_final')\n",
            "\n",
            "  Question: whats the average BMI of users living in India\n",
            "SQLQuery:\u001b[32;1m\u001b[1;3mSELECT AVG(CAST(BMI AS NUMERIC)) FROM `cloud-llm-preview1.blackbelt_capstone_healthcare.user_weight_final` AS w JOIN `cloud-llm-preview1.blackbelt_capstone_healthcare.user_location` AS l ON w.Id = l.Id WHERE l.Country = 'India'\u001b[0m\n",
            "SQLResult: \u001b[33;1m\u001b[1;3m[(Decimal('24.006666183'),)]\u001b[0m\n",
            "Answer:\u001b[32;1m\u001b[1;3m24.006666183\u001b[0m\n",
            "\u001b[1m> Finished chain.\u001b[0m\n"
          ]
        },
        {
          "data": {
            "text/plain": [
              "('24.006666183',\n",
              " \"SELECT AVG(CAST(BMI AS NUMERIC)) FROM `cloud-llm-preview1.blackbelt_capstone_healthcare.user_weight_final` AS w JOIN `cloud-llm-preview1.blackbelt_capstone_healthcare.user_location` AS l ON w.Id = l.Id WHERE l.Country = 'India'\")"
            ]
          },
          "execution_count": 36,
          "metadata": {},
          "output_type": "execute_result"
        }
      ],
      "source": [
        "#Testing 6 - Casting data type\n",
        "bq_qna(\"\"\"whats the average BMI of users living in India\"\"\")"
      ]
    },
    {
      "cell_type": "markdown",
      "metadata": {
        "id": "9Hj4JSWf2JKF"
      },
      "source": [
        "### UI for Demo"
      ]
    },
    {
      "cell_type": "code",
      "execution_count": null,
      "metadata": {
        "colab": {
          "base_uri": "https://localhost:8080/",
          "height": 616
        },
        "id": "SGyd67aqXfLV",
        "outputId": "8afd053c-d847-4308-8b62-36ebcb828576"
      },
      "outputs": [],
      "source": [
        "import gradio as gr\n",
        "\n",
        "with gr.Blocks() as demo:\n",
        "    gr.Markdown(\n",
        "    \"\"\"\n",
        "    ## Ask BiqQuery\n",
        "\n",
        "    This demo is to showcase answering questions on a tabular data available in Big Query using Vertex PALM LLM & Langchain.\n",
        "\n",
        "    This demo uses a sample public dataset from Kaggle (https://www.kaggle.com/datasets/arashnic/fitbit)\n",
        "\n",
        "    ### Sample Inputs:\n",
        "    1. what is the minimum number of steps taken by user 1644430081 ?\n",
        "    2. what is the average steps covered by 1644430081?\n",
        "    3. what is the highest number of Calories burnt in the month of May by 1644430081 ?\n",
        "\n",
        "    ### Enter a search query...\n",
        "\n",
        "    \"\"\")\n",
        "    with gr.Row():\n",
        "      with gr.Column():\n",
        "        input_text = gr.Textbox(label=\"Question\", placeholder=\"what is the minimum steps taken by 1644430081\")\n",
        "\n",
        "    with gr.Row():\n",
        "      generate = gr.Button(\"Ask BigQuery\")\n",
        "\n",
        "    with gr.Row():\n",
        "      label2 = gr.Textbox(label=\"Output\")\n",
        "    with gr.Row():\n",
        "      label3 = gr.Textbox(label=\"SQL query generated by LLM\")\n",
        "\n",
        "    generate.click(bq_qna,input_text, [label2, label3])\n",
        "demo.launch(share=False, debug=False)"
      ]
    }
  ],
  "metadata": {
    "colab": {
      "collapsed_sections": [
        "UEv34vVKxR9k",
        "aPh6goEQyKsD",
        "LqDhLithzJgd",
        "mpW-rMVI0DUZ",
        "LAlVAHPe16Xr"
      ],
      "provenance": []
    },
    "kernelspec": {
      "display_name": "Python 3.10.0 ('.venv': poetry)",
      "language": "python",
      "name": "python3"
    },
    "language_info": {
      "codemirror_mode": {
        "name": "ipython",
        "version": 3
      },
      "file_extension": ".py",
      "mimetype": "text/x-python",
      "name": "python",
      "nbconvert_exporter": "python",
      "pygments_lexer": "ipython3",
      "version": "3.10.0"
    },
    "vscode": {
      "interpreter": {
        "hash": "7b6d4759b3bb6e646e6e825baea9c766b2ee56649e8361ceb772206c1c7f3c13"
      }
    }
  },
  "nbformat": 4,
  "nbformat_minor": 0
}
